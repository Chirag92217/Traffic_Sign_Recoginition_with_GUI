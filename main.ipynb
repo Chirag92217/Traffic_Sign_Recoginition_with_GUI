{
 "cells": [
  {
   "cell_type": "code",
   "execution_count": null,
   "id": "20bc3d41",
   "metadata": {},
   "outputs": [],
   "source": [
    "import numpy as np \n",
    "import pandas as pd \n",
    "import matplotlib.pyplot as plt\n",
    "import cv2\n",
    "import tensorflow as tf\n",
    "from PIL import Image\n",
    "import os\n",
    "from sklearn.model_selection import train_test_split\n",
    "from keras.utils import to_categorical\n",
    "from keras.models import Sequential\n",
    "from keras.layers import Conv2D, MaxPool2D, Dropout, Flatten, Dense, BatchNormalization\n",
    "from keras.callbacks import EarlyStopping, ReduceLROnPlateau"
   ]
  },
  {
   "cell_type": "code",
   "execution_count": 26,
   "id": "ab4b2cc1",
   "metadata": {},
   "outputs": [],
   "source": [
    "data = []\n",
    "labels = []\n",
    "classes = 43\n",
    "cur_path = os.getcwd()"
   ]
  },
  {
   "cell_type": "code",
   "execution_count": null,
   "id": "0a8c19da",
   "metadata": {},
   "outputs": [],
   "source": [
    "#Retrieving the images and their labels \n",
    "for i in range(classes):\n",
    "    path = os.path.join(cur_path,'train',str(i))\n",
    "    images = os.listdir(path)\n",
    "\n",
    "    for a in images:\n",
    "        try:\n",
    "            image = Image.open(path + '\\\\'+ a)\n",
    "            image = image.resize((30,30))\n",
    "            image = np.array(image)\n",
    "            data.append(image)\n",
    "            labels.append(i)\n",
    "        except:\n",
    "            print(\"Error loading image\")\n"
   ]
  },
  {
   "cell_type": "code",
   "execution_count": 28,
   "id": "2c7def30",
   "metadata": {},
   "outputs": [
    {
     "name": "stdout",
     "output_type": "stream",
     "text": [
      "(39209, 30, 30, 3) (39209,)\n"
     ]
    }
   ],
   "source": [
    "#Converting lists into numpy arrays\n",
    "data = np.array(data)\n",
    "labels = np.array(labels)\n",
    "\n",
    "print(data.shape, labels.shape)"
   ]
  },
  {
   "cell_type": "code",
   "execution_count": 32,
   "id": "ea0ffe43",
   "metadata": {},
   "outputs": [
    {
     "name": "stdout",
     "output_type": "stream",
     "text": [
      "(31367, 30, 30, 3) (7842, 30, 30, 3) (31367,) (7842,)\n"
     ]
    }
   ],
   "source": [
    "#Splitting training and testing dataset\n",
    "X_train, X_test, y_train, y_test = train_test_split(data, labels, test_size=0.2, random_state=42)\n",
    "\n",
    "print(X_train.shape, X_test.shape, y_train.shape, y_test.shape)\n",
    "\n",
    "#Converting the labels into one hot encoding\n",
    "y_train = to_categorical(y_train, 43)\n",
    "y_test = to_categorical(y_test, 43)\n"
   ]
  },
  {
   "cell_type": "code",
   "execution_count": null,
   "id": "c07c6212",
   "metadata": {},
   "outputs": [],
   "source": [
    "model = Sequential()\n",
    "\n",
    "# Block 1\n",
    "model.add(Conv2D(64, (3, 3), activation='relu', input_shape=X_train.shape[1:]))\n",
    "model.add(BatchNormalization())\n",
    "model.add(Conv2D(64, (3, 3), activation='relu'))\n",
    "model.add(BatchNormalization())\n",
    "model.add(MaxPool2D((2, 2)))\n",
    "model.add(Dropout(0.25))\n",
    "\n",
    "# Block 2\n",
    "model.add(Conv2D(128, (3, 3), activation='relu'))\n",
    "model.add(BatchNormalization())\n",
    "model.add(Conv2D(128, (3, 3), activation='relu'))\n",
    "model.add(BatchNormalization())\n",
    "model.add(MaxPool2D((2, 2)))\n",
    "model.add(Dropout(0.25))\n",
    "\n",
    "# FC Layer\n",
    "model.add(Flatten())\n",
    "model.add(Dense(512, activation='relu'))\n",
    "model.add(Dropout(0.5))\n",
    "model.add(Dense(43, activation='softmax'))  # Assuming 43 classes\n"
   ]
  },
  {
   "cell_type": "code",
   "execution_count": 34,
   "id": "4e1af8de",
   "metadata": {},
   "outputs": [
    {
     "name": "stdout",
     "output_type": "stream",
     "text": [
      "Model: \"sequential_2\"\n",
      "_________________________________________________________________\n",
      " Layer (type)                Output Shape              Param #   \n",
      "=================================================================\n",
      " conv2d_8 (Conv2D)           (None, 28, 28, 64)        1792      \n",
      "                                                                 \n",
      " batch_normalization (BatchN  (None, 28, 28, 64)       256       \n",
      " ormalization)                                                   \n",
      "                                                                 \n",
      " conv2d_9 (Conv2D)           (None, 26, 26, 64)        36928     \n",
      "                                                                 \n",
      " batch_normalization_1 (Batc  (None, 26, 26, 64)       256       \n",
      " hNormalization)                                                 \n",
      "                                                                 \n",
      " max_pooling2d_4 (MaxPooling  (None, 13, 13, 64)       0         \n",
      " 2D)                                                             \n",
      "                                                                 \n",
      " dropout_6 (Dropout)         (None, 13, 13, 64)        0         \n",
      "                                                                 \n",
      " conv2d_10 (Conv2D)          (None, 11, 11, 128)       73856     \n",
      "                                                                 \n",
      " batch_normalization_2 (Batc  (None, 11, 11, 128)      512       \n",
      " hNormalization)                                                 \n",
      "                                                                 \n",
      " conv2d_11 (Conv2D)          (None, 9, 9, 128)         147584    \n",
      "                                                                 \n",
      " batch_normalization_3 (Batc  (None, 9, 9, 128)        512       \n",
      " hNormalization)                                                 \n",
      "                                                                 \n",
      " max_pooling2d_5 (MaxPooling  (None, 4, 4, 128)        0         \n",
      " 2D)                                                             \n",
      "                                                                 \n",
      " dropout_7 (Dropout)         (None, 4, 4, 128)         0         \n",
      "                                                                 \n",
      " flatten_2 (Flatten)         (None, 2048)              0         \n",
      "                                                                 \n",
      " dense_4 (Dense)             (None, 512)               1049088   \n",
      "                                                                 \n",
      " dropout_8 (Dropout)         (None, 512)               0         \n",
      "                                                                 \n",
      " dense_5 (Dense)             (None, 43)                22059     \n",
      "                                                                 \n",
      "=================================================================\n",
      "Total params: 1,332,843\n",
      "Trainable params: 1,332,075\n",
      "Non-trainable params: 768\n",
      "_________________________________________________________________\n"
     ]
    }
   ],
   "source": [
    "model.summary()"
   ]
  },
  {
   "cell_type": "code",
   "execution_count": 35,
   "id": "969deaf9",
   "metadata": {},
   "outputs": [],
   "source": [
    "#Compilation of the model\n",
    "model.compile(loss='categorical_crossentropy', optimizer='adam', metrics=['accuracy'])\n"
   ]
  },
  {
   "cell_type": "code",
   "execution_count": null,
   "id": "379f647b",
   "metadata": {},
   "outputs": [
    {
     "name": "stdout",
     "output_type": "stream",
     "text": [
      "Epoch 1/50\n",
      "981/981 [==============================] - 17s 17ms/step - loss: 0.7603 - accuracy: 0.7996 - val_loss: 0.1395 - val_accuracy: 0.9628 - lr: 0.0010\n",
      "Epoch 2/50\n",
      "981/981 [==============================] - 16s 16ms/step - loss: 0.1402 - accuracy: 0.9595 - val_loss: 0.0868 - val_accuracy: 0.9750 - lr: 0.0010\n",
      "Epoch 3/50\n",
      "981/981 [==============================] - 15s 16ms/step - loss: 0.0994 - accuracy: 0.9725 - val_loss: 0.0425 - val_accuracy: 0.9898 - lr: 0.0010\n",
      "Epoch 4/50\n",
      "981/981 [==============================] - 15s 16ms/step - loss: 0.0886 - accuracy: 0.9785 - val_loss: 0.0352 - val_accuracy: 0.9908 - lr: 0.0010\n",
      "Epoch 5/50\n",
      "981/981 [==============================] - 15s 16ms/step - loss: 0.0749 - accuracy: 0.9814 - val_loss: 0.0344 - val_accuracy: 0.9926 - lr: 0.0010\n",
      "Epoch 6/50\n",
      "981/981 [==============================] - 16s 17ms/step - loss: 0.0754 - accuracy: 0.9821 - val_loss: 0.0328 - val_accuracy: 0.9936 - lr: 0.0010\n",
      "Epoch 7/50\n",
      "981/981 [==============================] - 16s 16ms/step - loss: 0.0609 - accuracy: 0.9863 - val_loss: 0.0423 - val_accuracy: 0.9916 - lr: 0.0010\n",
      "Epoch 8/50\n",
      "981/981 [==============================] - 17s 17ms/step - loss: 0.0543 - accuracy: 0.9875 - val_loss: 0.0358 - val_accuracy: 0.9952 - lr: 0.0010\n",
      "Epoch 9/50\n",
      "981/981 [==============================] - 17s 17ms/step - loss: 0.0485 - accuracy: 0.9893 - val_loss: 0.0275 - val_accuracy: 0.9952 - lr: 0.0010\n",
      "Epoch 10/50\n",
      "981/981 [==============================] - 16s 16ms/step - loss: 0.0503 - accuracy: 0.9895 - val_loss: 0.0255 - val_accuracy: 0.9957 - lr: 0.0010\n",
      "Epoch 11/50\n",
      "981/981 [==============================] - 16s 16ms/step - loss: 0.0520 - accuracy: 0.9902 - val_loss: 0.0307 - val_accuracy: 0.9952 - lr: 0.0010\n",
      "Epoch 12/50\n",
      "981/981 [==============================] - 16s 16ms/step - loss: 0.0376 - accuracy: 0.9919 - val_loss: 0.0261 - val_accuracy: 0.9963 - lr: 0.0010\n",
      "Epoch 13/50\n",
      "981/981 [==============================] - 16s 16ms/step - loss: 0.0377 - accuracy: 0.9921 - val_loss: 0.0252 - val_accuracy: 0.9969 - lr: 0.0010\n",
      "Epoch 14/50\n",
      "981/981 [==============================] - 16s 16ms/step - loss: 0.0347 - accuracy: 0.9931 - val_loss: 0.0390 - val_accuracy: 0.9938 - lr: 0.0010\n",
      "Epoch 15/50\n",
      "981/981 [==============================] - 17s 17ms/step - loss: 0.0379 - accuracy: 0.9929 - val_loss: 0.0327 - val_accuracy: 0.9957 - lr: 0.0010\n",
      "Epoch 16/50\n",
      "981/981 [==============================] - 17s 17ms/step - loss: 0.0361 - accuracy: 0.9933 - val_loss: 0.0327 - val_accuracy: 0.9960 - lr: 0.0010\n",
      "Epoch 17/50\n",
      "981/981 [==============================] - 16s 16ms/step - loss: 0.0140 - accuracy: 0.9972 - val_loss: 0.0310 - val_accuracy: 0.9976 - lr: 5.0000e-04\n",
      "Epoch 18/50\n",
      "981/981 [==============================] - 16s 16ms/step - loss: 0.0091 - accuracy: 0.9977 - val_loss: 0.0258 - val_accuracy: 0.9973 - lr: 5.0000e-04\n"
     ]
    }
   ],
   "source": [
    "\n",
    "early_stop = EarlyStopping(patience=5, restore_best_weights=True)\n",
    "reduce_lr = ReduceLROnPlateau(factor=0.5, patience=3)\n",
    "\n",
    "history = model.fit(X_train, y_train, epochs=50, batch_size=32,\n",
    "          validation_data=(X_test, y_test),\n",
    "          callbacks=[early_stop, reduce_lr])\n",
    "model.save('traffic_sign_model.h5')"
   ]
  },
  {
   "cell_type": "code",
   "execution_count": 37,
   "id": "2b6c6ad0",
   "metadata": {},
   "outputs": [
    {
     "data": {
      "image/png": "[encoded data removed]",
      "text/plain": [
       "<Figure size 640x480 with 1 Axes>"
      ]
     },
     "metadata": {},
     "output_type": "display_data"
    },
    {
     "data": {
      "image/png": "[encoded data removed]",
      "text/plain": [
       "<Figure size 640x480 with 1 Axes>"
      ]
     },
     "metadata": {},
     "output_type": "display_data"
    }
   ],
   "source": [
    "#plotting graphs for accuracy \n",
    "plt.figure(0)\n",
    "plt.plot(history.history['accuracy'], label='training accuracy')\n",
    "plt.plot(history.history['val_accuracy'], label='val accuracy')\n",
    "plt.title('Accuracy')\n",
    "plt.xlabel('epochs')\n",
    "plt.ylabel('accuracy')\n",
    "plt.legend()\n",
    "plt.show()\n",
    "\n",
    "plt.figure(1)\n",
    "plt.plot(history.history['loss'], label='training loss')\n",
    "plt.plot(history.history['val_loss'], label='val loss')\n",
    "plt.title('Loss')\n",
    "plt.xlabel('epochs')\n",
    "plt.ylabel('loss')\n",
    "plt.legend()\n",
    "plt.show()\n"
   ]
  },
  {
   "cell_type": "code",
   "execution_count": 38,
   "id": "3877d5b7",
   "metadata": {},
   "outputs": [],
   "source": [
    "# Loading the saved model\n",
    "from keras.models import load_model\n",
    "model = load_model('traffic_sign_model.h5')"
   ]
  },
  {
   "cell_type": "code",
   "execution_count": null,
   "id": "a5d83871",
   "metadata": {},
   "outputs": [
    {
     "name": "stdout",
     "output_type": "stream",
     "text": [
      "395/395 [==============================] - 2s 4ms/step\n",
      "Test Accuracy: 0.971021377672209\n"
     ]
    }
   ],
   "source": [
    "from sklearn.metrics import accuracy_score\n",
    "# Load test labels and image paths\n",
    "y_test = pd.read_csv('Test.csv')\n",
    "labels = y_test[\"ClassId\"].values\n",
    "imgs = y_test[\"Path\"].values\n",
    "# Preprocess images\n",
    "data = []\n",
    "for img in imgs:\n",
    "    image = Image.open(img)\n",
    "    image = image.resize((30, 30)) \n",
    "    data.append(np.array(image))\n",
    "X_test = np.array(data)\n",
    "# Make predictions\n",
    "pred_probs = model.predict(X_test)       \n",
    "pred = np.argmax(pred_probs, axis=1)        \n",
    "# Calculate accuracy\n",
    "print(\"Test Accuracy:\", accuracy_score(labels, pred))\n",
    "\n"
   ]
  },
  {
   "cell_type": "code",
   "execution_count": null,
   "id": "adbd9b1d",
   "metadata": {},
   "outputs": [
    {
     "name": "stdout",
     "output_type": "stream",
     "text": [
      "1/1 [==============================] - 0s 123ms/step\n",
      "Predicted Class ID: 1\n"
     ]
    }
   ],
   "source": [
    "from keras.models import load_model\n",
    "from PIL import Image\n",
    "import numpy as np\n",
    "\n",
    "# Load the trained model\n",
    "model = load_model('my_model.h5')  # or folder path if SavedModel format\n",
    "\n",
    "# Load and preprocess the image\n",
    "img_path = 'Train/1/00001_00000_00001.png'  # Change to your image path\n",
    "image = Image.open(img_path)\n",
    "image = image.resize((30, 30))          \n",
    "image = np.array(image)\n",
    "image = np.expand_dims(image, axis=0)\n",
    "# Predict\n",
    "prediction = model.predict(image)\n",
    "predicted_class = np.argmax(prediction)\n",
    "\n",
    "print(\"Predicted Class ID:\", predicted_class)\n"
   ]
  },
  {
   "cell_type": "code",
   "execution_count": null,
   "id": "85384cb2",
   "metadata": {},
   "outputs": [],
   "source": []
  }
 ],
 "metadata": {
  "kernelspec": {
   "display_name": "Python 3",
   "language": "python",
   "name": "python3"
  },
  "language_info": {
   "codemirror_mode": {
    "name": "ipython",
    "version": 3
   },
   "file_extension": ".py",
   "mimetype": "text/x-python",
   "name": "python",
   "nbconvert_exporter": "python",
   "pygments_lexer": "ipython3",
   "version": "3.9.21"
  }
 },
 "nbformat": 4,
 "nbformat_minor": 5
}
